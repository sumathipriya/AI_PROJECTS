{
 "cells": [
  {
   "cell_type": "code",
   "execution_count": 1,
   "id": "f8c85278-ec2f-40c3-a1e7-2f51a46849d3",
   "metadata": {},
   "outputs": [
    {
     "name": "stdout",
     "output_type": "stream",
     "text": [
      "Here are 5 recipe suggestions based on your ingredients:\n",
      "\n",
      "1. **Spicy Brinjal Curry (Bagara Baingan):** This flavorful Indian dish primarily uses brinjals (eggplant), onions, tomatoes, and garlic.  You can adjust the spice level to your liking.  The carrot can be added for sweetness and texture.  Omit the banana.\n",
      "\n",
      "2. **Roasted Brinjal and Tomato Salad:** A simple, healthy salad. Roast diced brinjal, tomato, and onion wedges with a little garlic and a drizzle of olive oil. This brings out their natural sweetness. Once cool, toss with fresh herbs and a light vinaigrette. Skip the banana and carrot in this recipe.\n",
      "\n",
      "3. **Banana and Carrot Smoothie:** A quick and easy breakfast or snack. Blend banana and carrot with your choice of milk (dairy or non-dairy) and a touch of honey or maple syrup for sweetness.  Omit the remaining vegetables.\n",
      "\n",
      "4. **Tomato and Onion Omelette:** A classic breakfast or brunch option. Sauté diced onion and tomato with a little garlic, then add beaten eggs and cook until set. This is a great way to use up leftover tomatoes and onions.  Skip the banana, brinjal, and carrot.\n",
      "\n",
      "5. **Brinjal and Carrot Stir-Fry:** A healthy and customizable stir-fry.  Slice brinjal and carrot thinly and stir-fry with garlic, onion, and your favorite sauce (soy sauce, teriyaki, or even a tomato-based sauce).  You can add other vegetables or protein as desired. Omit the banana in this recipe.\n",
      "\n"
     ]
    }
   ],
   "source": [
    "import google.generativeai as genai\n",
    "\n",
    "# Configure Gemini API key\n",
    "genai.configure(api_key=\"\")  # Replace with your Gemini API key\n",
    "\n",
    "# Initialize the Gemini model\n",
    "model = genai.GenerativeModel(model_name=\"models/gemini-1.5-pro-latest\")\n",
    "\n",
    "# Set up the prompt\n",
    "system_instruction = \"\"\"You are a Chef digital Assistant. \n",
    "I want you to suggest 5 recipes based on the given vegetables. \n",
    "It is not necessary to include all the vegetables.\"\"\"\n",
    "\n",
    "user_input = \"\"\"For this ingredient suggest the recipes: \n",
    "1 Banana, 3 garlic, 1 onion, 2 Tomatoes, 3 Brinjals, 1 carrot\"\"\"\n",
    "\n",
    "# Create a chat session and send messages\n",
    "chat = model.start_chat(history=[\n",
    "    {\"role\": \"user\", \"parts\": [system_instruction]}\n",
    "])\n",
    "\n",
    "response = chat.send_message(user_input)\n",
    "\n",
    "# Output the response\n",
    "print(response.text)\n"
   ]
  },
  {
   "cell_type": "code",
   "execution_count": null,
   "id": "db1097aa-9ce1-44e1-b79d-5eced64ccaab",
   "metadata": {},
   "outputs": [],
   "source": []
  }
 ],
 "metadata": {
  "kernelspec": {
   "display_name": "Python 3 (ipykernel)",
   "language": "python",
   "name": "python3"
  },
  "language_info": {
   "codemirror_mode": {
    "name": "ipython",
    "version": 3
   },
   "file_extension": ".py",
   "mimetype": "text/x-python",
   "name": "python",
   "nbconvert_exporter": "python",
   "pygments_lexer": "ipython3",
   "version": "3.12.7"
  }
 },
 "nbformat": 4,
 "nbformat_minor": 5
}
