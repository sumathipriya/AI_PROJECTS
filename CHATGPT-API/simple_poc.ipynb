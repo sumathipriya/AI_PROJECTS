{
 "cells": [
  {
   "cell_type": "code",
   "execution_count": 1,
   "id": "65118130-fd4b-431e-9fce-9e119fcec836",
   "metadata": {},
   "outputs": [
    {
     "name": "stdout",
     "output_type": "stream",
     "text": [
      "Collecting google-generativeai\n",
      "  Downloading google_generativeai-0.8.5-py3-none-any.whl.metadata (3.9 kB)\n",
      "Collecting google-ai-generativelanguage==0.6.15 (from google-generativeai)\n",
      "  Downloading google_ai_generativelanguage-0.6.15-py3-none-any.whl.metadata (5.7 kB)\n",
      "Requirement already satisfied: google-api-core in c:\\users\\admin\\anaconda3\\lib\\site-packages (from google-generativeai) (2.24.0)\n",
      "Collecting google-api-python-client (from google-generativeai)\n",
      "  Downloading google_api_python_client-2.169.0-py3-none-any.whl.metadata (6.7 kB)\n",
      "Requirement already satisfied: google-auth>=2.15.0 in c:\\users\\admin\\anaconda3\\lib\\site-packages (from google-generativeai) (2.37.0)\n",
      "Requirement already satisfied: protobuf in c:\\users\\admin\\anaconda3\\lib\\site-packages (from google-generativeai) (5.29.2)\n",
      "Requirement already satisfied: pydantic in c:\\users\\admin\\anaconda3\\lib\\site-packages (from google-generativeai) (1.10.2)\n",
      "Requirement already satisfied: tqdm in c:\\users\\admin\\anaconda3\\lib\\site-packages (from google-generativeai) (4.65.0)\n",
      "Requirement already satisfied: typing-extensions in c:\\users\\admin\\anaconda3\\lib\\site-packages (from google-generativeai) (4.12.2)\n",
      "Requirement already satisfied: proto-plus<2.0.0dev,>=1.22.3 in c:\\users\\admin\\anaconda3\\lib\\site-packages (from google-ai-generativelanguage==0.6.15->google-generativeai) (1.25.0)\n",
      "Requirement already satisfied: googleapis-common-protos<2.0.dev0,>=1.56.2 in c:\\users\\admin\\anaconda3\\lib\\site-packages (from google-api-core->google-generativeai) (1.66.0)\n",
      "Requirement already satisfied: requests<3.0.0.dev0,>=2.18.0 in c:\\users\\admin\\anaconda3\\lib\\site-packages (from google-api-core->google-generativeai) (2.32.3)\n",
      "Requirement already satisfied: cachetools<6.0,>=2.0.0 in c:\\users\\admin\\anaconda3\\lib\\site-packages (from google-auth>=2.15.0->google-generativeai) (4.2.2)\n",
      "Requirement already satisfied: pyasn1-modules>=0.2.1 in c:\\users\\admin\\anaconda3\\lib\\site-packages (from google-auth>=2.15.0->google-generativeai) (0.2.8)\n",
      "Requirement already satisfied: rsa<5,>=3.1.4 in c:\\users\\admin\\anaconda3\\lib\\site-packages (from google-auth>=2.15.0->google-generativeai) (4.9)\n",
      "Requirement already satisfied: httplib2<1.0.0,>=0.19.0 in c:\\users\\admin\\anaconda3\\lib\\site-packages (from google-api-python-client->google-generativeai) (0.22.0)\n",
      "Collecting google-auth-httplib2<1.0.0,>=0.2.0 (from google-api-python-client->google-generativeai)\n",
      "  Downloading google_auth_httplib2-0.2.0-py2.py3-none-any.whl.metadata (2.2 kB)\n",
      "Collecting uritemplate<5,>=3.0.1 (from google-api-python-client->google-generativeai)\n",
      "  Downloading uritemplate-4.1.1-py2.py3-none-any.whl.metadata (2.9 kB)\n",
      "Requirement already satisfied: colorama in c:\\users\\admin\\anaconda3\\lib\\site-packages (from tqdm->google-generativeai) (0.4.6)\n",
      "Requirement already satisfied: grpcio<2.0dev,>=1.33.2 in c:\\users\\admin\\anaconda3\\lib\\site-packages (from google-api-core[grpc]!=2.0.*,!=2.1.*,!=2.10.*,!=2.2.*,!=2.3.*,!=2.4.*,!=2.5.*,!=2.6.*,!=2.7.*,!=2.8.*,!=2.9.*,<3.0.0dev,>=1.34.1->google-ai-generativelanguage==0.6.15->google-generativeai) (1.68.1)\n",
      "Requirement already satisfied: grpcio-status<2.0.dev0,>=1.33.2 in c:\\users\\admin\\anaconda3\\lib\\site-packages (from google-api-core[grpc]!=2.0.*,!=2.1.*,!=2.10.*,!=2.2.*,!=2.3.*,!=2.4.*,!=2.5.*,!=2.6.*,!=2.7.*,!=2.8.*,!=2.9.*,<3.0.0dev,>=1.34.1->google-ai-generativelanguage==0.6.15->google-generativeai) (1.68.1)\n",
      "Requirement already satisfied: pyparsing!=3.0.0,!=3.0.1,!=3.0.2,!=3.0.3,<4,>=2.4.2 in c:\\users\\admin\\anaconda3\\lib\\site-packages (from httplib2<1.0.0,>=0.19.0->google-api-python-client->google-generativeai) (3.0.9)\n",
      "Requirement already satisfied: pyasn1<0.5.0,>=0.4.6 in c:\\users\\admin\\anaconda3\\lib\\site-packages (from pyasn1-modules>=0.2.1->google-auth>=2.15.0->google-generativeai) (0.4.8)\n",
      "Requirement already satisfied: charset-normalizer<4,>=2 in c:\\users\\admin\\anaconda3\\lib\\site-packages (from requests<3.0.0.dev0,>=2.18.0->google-api-core->google-generativeai) (2.0.4)\n",
      "Requirement already satisfied: idna<4,>=2.5 in c:\\users\\admin\\anaconda3\\lib\\site-packages (from requests<3.0.0.dev0,>=2.18.0->google-api-core->google-generativeai) (3.4)\n",
      "Requirement already satisfied: urllib3<3,>=1.21.1 in c:\\users\\admin\\anaconda3\\lib\\site-packages (from requests<3.0.0.dev0,>=2.18.0->google-api-core->google-generativeai) (2.0.7)\n",
      "Requirement already satisfied: certifi>=2017.4.17 in c:\\users\\admin\\anaconda3\\lib\\site-packages (from requests<3.0.0.dev0,>=2.18.0->google-api-core->google-generativeai) (2024.8.30)\n",
      "Downloading google_generativeai-0.8.5-py3-none-any.whl (155 kB)\n",
      "   ---------------------------------------- 0.0/155.4 kB ? eta -:--:--\n",
      "   -- ------------------------------------- 10.2/155.4 kB ? eta -:--:--\n",
      "   --------------- ----------------------- 61.4/155.4 kB 812.7 kB/s eta 0:00:01\n",
      "   ---------------------------------------  153.6/155.4 kB 1.8 MB/s eta 0:00:01\n",
      "   ---------------------------------------- 155.4/155.4 kB 1.2 MB/s eta 0:00:00\n",
      "Downloading google_ai_generativelanguage-0.6.15-py3-none-any.whl (1.3 MB)\n",
      "   ---------------------------------------- 0.0/1.3 MB ? eta -:--:--\n",
      "   ------- -------------------------------- 0.3/1.3 MB 15.4 MB/s eta 0:00:01\n",
      "   ---------------------------- ----------- 0.9/1.3 MB 11.8 MB/s eta 0:00:01\n",
      "   ---------------------------------------- 1.3/1.3 MB 12.1 MB/s eta 0:00:00\n",
      "Downloading google_api_python_client-2.169.0-py3-none-any.whl (13.3 MB)\n",
      "   ---------------------------------------- 0.0/13.3 MB ? eta -:--:--\n",
      "   -- ------------------------------------- 0.8/13.3 MB 16.1 MB/s eta 0:00:01\n",
      "   --- ------------------------------------ 1.2/13.3 MB 15.8 MB/s eta 0:00:01\n",
      "   ----- ---------------------------------- 2.0/13.3 MB 15.6 MB/s eta 0:00:01\n",
      "   -------- ------------------------------- 2.9/13.3 MB 18.2 MB/s eta 0:00:01\n",
      "   ------------ --------------------------- 4.2/13.3 MB 19.1 MB/s eta 0:00:01\n",
      "   ----------------- ---------------------- 5.8/13.3 MB 21.7 MB/s eta 0:00:01\n",
      "   -------------------- ------------------- 7.0/13.3 MB 22.3 MB/s eta 0:00:01\n",
      "   ------------------------- -------------- 8.5/13.3 MB 23.6 MB/s eta 0:00:01\n",
      "   ------------------------------- -------- 10.5/13.3 MB 26.2 MB/s eta 0:00:01\n",
      "   ------------------------------- -------- 10.6/13.3 MB 26.2 MB/s eta 0:00:01\n",
      "   ---------------------------------------  13.2/13.3 MB 29.8 MB/s eta 0:00:01\n",
      "   ---------------------------------------  13.3/13.3 MB 29.8 MB/s eta 0:00:01\n",
      "   ---------------------------------------- 13.3/13.3 MB 25.2 MB/s eta 0:00:00\n",
      "Downloading google_auth_httplib2-0.2.0-py2.py3-none-any.whl (9.3 kB)\n",
      "Downloading uritemplate-4.1.1-py2.py3-none-any.whl (10 kB)\n",
      "Installing collected packages: uritemplate, google-auth-httplib2, google-api-python-client, google-ai-generativelanguage, google-generativeai\n",
      "Successfully installed google-ai-generativelanguage-0.6.15 google-api-python-client-2.169.0 google-auth-httplib2-0.2.0 google-generativeai-0.8.5 uritemplate-4.1.1\n"
     ]
    }
   ],
   "source": [
    "!pip install google-generativeai"
   ]
  },
  {
   "cell_type": "code",
   "execution_count": null,
   "id": "1d6c829f-4399-4a18-b81f-3888cda52e60",
   "metadata": {},
   "outputs": [
    {
     "name": "stdin",
     "output_type": "stream",
     "text": [
      "What type of chatbot would you like to create?\n",
      " A helpful coding assistant\n"
     ]
    },
    {
     "name": "stdout",
     "output_type": "stream",
     "text": [
      "Your new assistant is ready!\n"
     ]
    },
    {
     "name": "stdin",
     "output_type": "stream",
     "text": [
      " How do I write a Python function?\n"
     ]
    },
    {
     "name": "stdout",
     "output_type": "stream",
     "text": [
      "\n",
      "A Python function is defined using the `def` keyword, followed by the function name, parentheses `()`, and a colon `:`. The code block within the function is indented.  Here's a breakdown and examples:\n",
      "\n",
      "**Basic Structure:**\n",
      "\n",
      "```python\n",
      "def function_name(parameters):\n",
      "    \"\"\"Docstring (optional)\"\"\"\n",
      "    # Code block\n",
      "    return value  # Optional return statement\n",
      "```\n",
      "\n",
      "* **`def` keyword:** Indicates the start of a function definition.\n",
      "* **`function_name`:**  A descriptive name for your function (e.g., `calculate_sum`, `get_user_input`).  Use lowercase with underscores for readability (snake_case).\n",
      "* **`parameters`:**  Input values the function accepts within the parentheses.  These are optional.\n",
      "* **`:`:**  Marks the end of the function header.\n",
      "* **`Docstring`:** An optional string enclosed in triple quotes (`\"\"\"Docstring\"\"\"`) that describes what the function does. This is good practice for documentation.\n",
      "* **`Code block`:** The indented lines of code that perform the function's actions.\n",
      "* **`return value`:** An optional statement that specifies the value the function returns.  If omitted, the function returns `None`.\n",
      "\n",
      "\n",
      "**Examples:**\n",
      "\n",
      "1. **A simple function with no parameters and no return value:**\n",
      "\n",
      "   ```python\n",
      "   def greet():\n",
      "       \"\"\"Prints a greeting message.\"\"\"\n",
      "       print(\"Hello!\")\n",
      "\n",
      "   greet()  # Output: Hello!\n",
      "   ```\n",
      "\n",
      "2. **A function with parameters and a return value:**\n",
      "\n",
      "   ```python\n",
      "   def add(x, y):\n",
      "       \"\"\"Adds two numbers and returns the sum.\"\"\"\n",
      "       sum = x + y\n",
      "       return sum\n",
      "\n",
      "   result = add(5, 3)\n",
      "   print(result)  # Output: 8\n",
      "   ```\n",
      "\n",
      "3. **A function with a default parameter value:**\n",
      "\n",
      "   ```python\n",
      "   def greet_user(name=\"Guest\"):\n",
      "       \"\"\"Greets the user by name.\"\"\"\n",
      "       print(f\"Hello, {name}!\")\n",
      "\n",
      "   greet_user()      # Output: Hello, Guest!\n",
      "   greet_user(\"Alice\") # Output: Hello, Alice!\n",
      "   ```\n",
      "\n",
      "4. **A function with variable number of arguments (`*args`):**\n",
      "\n",
      "   ```python\n",
      "   def sum_all(*args):\n",
      "       \"\"\"Calculates the sum of all arguments passed.\"\"\"\n",
      "       total = 0\n",
      "       for num in args:\n",
      "           total += num\n",
      "       return total\n",
      "\n",
      "   result = sum_all(1, 2, 3, 4)\n",
      "   print(result)  # Output: 10\n",
      "   ```\n",
      "\n",
      "5. **A function with keyword arguments (`**kwargs`):**\n",
      "\n",
      "   ```python\n",
      "   def print_details(**kwargs):\n",
      "       \"\"\"Prints user details.\"\"\"\n",
      "       for key, value in kwargs.items():\n",
      "           print(f\"{key}: {value}\")\n",
      "\n",
      "   print_details(name=\"Bob\", age=30, city=\"New York\")\n",
      "   # Output:\n",
      "   # name: Bob\n",
      "   # age: 30\n",
      "   # city: New York\n",
      "   ```\n",
      "\n",
      "\n",
      "\n",
      "These examples cover the fundamental concepts of Python function definition.  Remember to choose descriptive names, use docstrings, and handle parameters and return values appropriately to create clear and reusable functions.  Let me know if you'd like more specific examples or have further questions!\n",
      "\n",
      "\n"
     ]
    },
    {
     "name": "stdin",
     "output_type": "stream",
     "text": [
      " quit\n"
     ]
    },
    {
     "name": "stdout",
     "output_type": "stream",
     "text": [
      "\n",
      "Understood.  Feel free to ask any further coding questions when you have them.  I'm here to help!\n",
      "\n",
      "\n"
     ]
    }
   ],
   "source": [
    "import google.generativeai as genai\n",
    "\n",
    "# Set your Gemini API key here\n",
    "genai.configure(api_key=\"\")\n",
    "\n",
    "# Initialize the model\n",
    "model = genai.GenerativeModel(model_name=\"models/gemini-1.5-pro-latest\")\n",
    "\n",
    "# Get system message (persona definition)\n",
    "system_msg = input(\"What type of chatbot would you like to create?\\n\")\n",
    "chat = model.start_chat(history=[{\"role\": \"user\", \"parts\": [system_msg]}])\n",
    "\n",
    "print(\"Your new assistant is ready!\")\n",
    "\n",
    "while True:\n",
    "    user_input = input()\n",
    "    if user_input == \"quit()\":\n",
    "        break\n",
    "\n",
    "    response = chat.send_message(user_input)\n",
    "    print(\"\\n\" + response.text + \"\\n\") "
   ]
  },
  {
   "cell_type": "code",
   "execution_count": null,
   "id": "1a35c58c-71ff-4cfc-806d-15a6e3f67270",
   "metadata": {},
   "outputs": [],
   "source": []
  },
  {
   "cell_type": "code",
   "execution_count": null,
   "id": "681c8f73-f651-495a-8fb0-4ddce22e1f3d",
   "metadata": {},
   "outputs": [],
   "source": []
  },
  {
   "cell_type": "code",
   "execution_count": null,
   "id": "f97cc2f7-f15e-4306-9eae-04b5ec5b7817",
   "metadata": {},
   "outputs": [],
   "source": []
  },
  {
   "cell_type": "code",
   "execution_count": null,
   "id": "923065e0-82c2-4cc0-b224-d5dce991ed3e",
   "metadata": {},
   "outputs": [],
   "source": []
  },
  {
   "cell_type": "code",
   "execution_count": null,
   "id": "8ece28f7-4c86-4d2c-9937-dbde5833019f",
   "metadata": {},
   "outputs": [],
   "source": []
  },
  {
   "cell_type": "code",
   "execution_count": null,
   "id": "609cd262-f2ef-4317-8f0b-1bb4cb233e18",
   "metadata": {},
   "outputs": [],
   "source": []
  },
  {
   "cell_type": "code",
   "execution_count": null,
   "id": "f53229b6-1dde-4aa6-894d-1f88d19ca053",
   "metadata": {},
   "outputs": [],
   "source": []
  },
  {
   "cell_type": "code",
   "execution_count": null,
   "id": "5f90bde3-05df-4204-b6a7-358e0e8917a4",
   "metadata": {},
   "outputs": [],
   "source": []
  },
  {
   "cell_type": "code",
   "execution_count": null,
   "id": "0a5d46af-32c0-46fe-9e5c-69c9aae0b05f",
   "metadata": {},
   "outputs": [],
   "source": []
  },
  {
   "cell_type": "code",
   "execution_count": null,
   "id": "5b23fcaa-8305-4d5a-828a-8b515ab0dbbd",
   "metadata": {},
   "outputs": [],
   "source": []
  },
  {
   "cell_type": "code",
   "execution_count": null,
   "id": "f28eea78-9984-439c-ac00-3a28b7261fc4",
   "metadata": {},
   "outputs": [],
   "source": []
  },
  {
   "cell_type": "code",
   "execution_count": null,
   "id": "a2653dc7-1caa-419d-8c5c-975f0731e19f",
   "metadata": {},
   "outputs": [],
   "source": []
  }
 ],
 "metadata": {
  "kernelspec": {
   "display_name": "Python 3 (ipykernel)",
   "language": "python",
   "name": "python3"
  },
  "language_info": {
   "codemirror_mode": {
    "name": "ipython",
    "version": 3
   },
   "file_extension": ".py",
   "mimetype": "text/x-python",
   "name": "python",
   "nbconvert_exporter": "python",
   "pygments_lexer": "ipython3",
   "version": "3.11.7"
  }
 },
 "nbformat": 4,
 "nbformat_minor": 5
}
