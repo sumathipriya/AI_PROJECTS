{
 "cells": [
  {
   "cell_type": "code",
   "execution_count": 1,
   "id": "8101bb97-793a-4bf9-b777-d54d62d38afd",
   "metadata": {},
   "outputs": [
    {
     "name": "stdout",
     "output_type": "stream",
     "text": [
      "Requirement already satisfied: google-generativeai in c:\\users\\dell\\anaconda3\\lib\\site-packages (0.8.5)\n",
      "Requirement already satisfied: google-ai-generativelanguage==0.6.15 in c:\\users\\dell\\anaconda3\\lib\\site-packages (from google-generativeai) (0.6.15)\n",
      "Requirement already satisfied: google-api-core in c:\\users\\dell\\anaconda3\\lib\\site-packages (from google-generativeai) (2.24.2)\n",
      "Requirement already satisfied: google-api-python-client in c:\\users\\dell\\anaconda3\\lib\\site-packages (from google-generativeai) (2.169.0)\n",
      "Requirement already satisfied: google-auth>=2.15.0 in c:\\users\\dell\\anaconda3\\lib\\site-packages (from google-generativeai) (2.39.0)\n",
      "Requirement already satisfied: protobuf in c:\\users\\dell\\anaconda3\\lib\\site-packages (from google-generativeai) (5.29.4)\n",
      "Requirement already satisfied: pydantic in c:\\users\\dell\\anaconda3\\lib\\site-packages (from google-generativeai) (2.8.2)\n",
      "Requirement already satisfied: tqdm in c:\\users\\dell\\anaconda3\\lib\\site-packages (from google-generativeai) (4.66.5)\n",
      "Requirement already satisfied: typing-extensions in c:\\users\\dell\\anaconda3\\lib\\site-packages (from google-generativeai) (4.11.0)\n",
      "Requirement already satisfied: proto-plus<2.0.0dev,>=1.22.3 in c:\\users\\dell\\anaconda3\\lib\\site-packages (from google-ai-generativelanguage==0.6.15->google-generativeai) (1.26.1)\n",
      "Requirement already satisfied: googleapis-common-protos<2.0.0,>=1.56.2 in c:\\users\\dell\\anaconda3\\lib\\site-packages (from google-api-core->google-generativeai) (1.70.0)\n",
      "Requirement already satisfied: requests<3.0.0,>=2.18.0 in c:\\users\\dell\\anaconda3\\lib\\site-packages (from google-api-core->google-generativeai) (2.32.3)\n",
      "Requirement already satisfied: cachetools<6.0,>=2.0.0 in c:\\users\\dell\\anaconda3\\lib\\site-packages (from google-auth>=2.15.0->google-generativeai) (5.3.3)\n",
      "Requirement already satisfied: pyasn1-modules>=0.2.1 in c:\\users\\dell\\anaconda3\\lib\\site-packages (from google-auth>=2.15.0->google-generativeai) (0.2.8)\n",
      "Requirement already satisfied: rsa<5,>=3.1.4 in c:\\users\\dell\\anaconda3\\lib\\site-packages (from google-auth>=2.15.0->google-generativeai) (4.9.1)\n",
      "Requirement already satisfied: httplib2<1.0.0,>=0.19.0 in c:\\users\\dell\\anaconda3\\lib\\site-packages (from google-api-python-client->google-generativeai) (0.22.0)\n",
      "Requirement already satisfied: google-auth-httplib2<1.0.0,>=0.2.0 in c:\\users\\dell\\anaconda3\\lib\\site-packages (from google-api-python-client->google-generativeai) (0.2.0)\n",
      "Requirement already satisfied: uritemplate<5,>=3.0.1 in c:\\users\\dell\\anaconda3\\lib\\site-packages (from google-api-python-client->google-generativeai) (4.1.1)\n",
      "Requirement already satisfied: annotated-types>=0.4.0 in c:\\users\\dell\\anaconda3\\lib\\site-packages (from pydantic->google-generativeai) (0.6.0)\n",
      "Requirement already satisfied: pydantic-core==2.20.1 in c:\\users\\dell\\anaconda3\\lib\\site-packages (from pydantic->google-generativeai) (2.20.1)\n",
      "Requirement already satisfied: colorama in c:\\users\\dell\\anaconda3\\lib\\site-packages (from tqdm->google-generativeai) (0.4.6)\n",
      "Requirement already satisfied: grpcio<2.0dev,>=1.33.2 in c:\\users\\dell\\anaconda3\\lib\\site-packages (from google-api-core[grpc]!=2.0.*,!=2.1.*,!=2.10.*,!=2.2.*,!=2.3.*,!=2.4.*,!=2.5.*,!=2.6.*,!=2.7.*,!=2.8.*,!=2.9.*,<3.0.0dev,>=1.34.1->google-ai-generativelanguage==0.6.15->google-generativeai) (1.71.0)\n",
      "Requirement already satisfied: grpcio-status<2.0.dev0,>=1.33.2 in c:\\users\\dell\\anaconda3\\lib\\site-packages (from google-api-core[grpc]!=2.0.*,!=2.1.*,!=2.10.*,!=2.2.*,!=2.3.*,!=2.4.*,!=2.5.*,!=2.6.*,!=2.7.*,!=2.8.*,!=2.9.*,<3.0.0dev,>=1.34.1->google-ai-generativelanguage==0.6.15->google-generativeai) (1.71.0)\n",
      "Requirement already satisfied: pyparsing!=3.0.0,!=3.0.1,!=3.0.2,!=3.0.3,<4,>=2.4.2 in c:\\users\\dell\\anaconda3\\lib\\site-packages (from httplib2<1.0.0,>=0.19.0->google-api-python-client->google-generativeai) (3.1.2)\n",
      "Requirement already satisfied: pyasn1<0.5.0,>=0.4.6 in c:\\users\\dell\\anaconda3\\lib\\site-packages (from pyasn1-modules>=0.2.1->google-auth>=2.15.0->google-generativeai) (0.4.8)\n",
      "Requirement already satisfied: charset-normalizer<4,>=2 in c:\\users\\dell\\anaconda3\\lib\\site-packages (from requests<3.0.0,>=2.18.0->google-api-core->google-generativeai) (3.3.2)\n",
      "Requirement already satisfied: idna<4,>=2.5 in c:\\users\\dell\\anaconda3\\lib\\site-packages (from requests<3.0.0,>=2.18.0->google-api-core->google-generativeai) (3.7)\n",
      "Requirement already satisfied: urllib3<3,>=1.21.1 in c:\\users\\dell\\anaconda3\\lib\\site-packages (from requests<3.0.0,>=2.18.0->google-api-core->google-generativeai) (2.2.3)\n",
      "Requirement already satisfied: certifi>=2017.4.17 in c:\\users\\dell\\anaconda3\\lib\\site-packages (from requests<3.0.0,>=2.18.0->google-api-core->google-generativeai) (2024.8.30)\n"
     ]
    }
   ],
   "source": [
    "!pip install google-generativeai\n"
   ]
  },
  {
   "cell_type": "code",
   "execution_count": null,
   "id": "cd4c8987-4c2c-44ae-b3cf-8bcc1f0faa00",
   "metadata": {},
   "outputs": [
    {
     "name": "stdin",
     "output_type": "stream",
     "text": [
      "What type of chatbot would you like to create?\n",
      " you are a chef\n"
     ]
    },
    {
     "name": "stdout",
     "output_type": "stream",
     "text": [
      "Your new assistant is ready!\n"
     ]
    },
    {
     "name": "stdin",
     "output_type": "stream",
     "text": [
      " guide me to make pasta\n"
     ]
    },
    {
     "name": "stdout",
     "output_type": "stream",
     "text": [
      "\n",
      "Alright, let's make some pasta! I'll guide you through a basic recipe, and you can customize it from there.\n",
      "\n",
      "**1. Gather your ingredients:**\n",
      "\n",
      "* **Pasta:**  1 pound dried pasta (any shape you like - spaghetti, penne, fusilli, etc.)\n",
      "* **Water:**  Plenty of it!  A large pot (6-8 quarts) is ideal.\n",
      "* **Salt:**  A generous amount! This seasons the pasta itself. Aim for 1-2 tablespoons per gallon of water. Don't be shy!\n",
      "* **Olive oil (optional):** A drizzle in the cooking water can prevent sticking, but it's not essential.\n",
      "\n",
      "**2. Cook the Pasta:**\n",
      "\n",
      "* **Boil the water:** Fill your pot with water and bring it to a rolling boil over high heat.  This is crucial; the pasta needs to cook in vigorously boiling water.\n",
      "* **Add salt:**  Once boiling, add the salt.  It should taste like the sea.  Seriously!\n",
      "* **Add pasta:** Add all the pasta at once.  Give it a good stir to prevent sticking, especially in the first minute or two.\n",
      "* **Cook according to package directions:**  The package will have a recommended cooking time.  Start checking for doneness a minute or two *before* the suggested time.\n",
      "* **Test for doneness:**  Fish out a piece of pasta and bite into it.  You're looking for *al dente*, which means \"to the tooth\" in Italian.  It should be firm to the bite, but not crunchy.  Slightly undercooked is better than overcooked, as it will continue cooking a bit after it's drained.\n",
      "* **Reserve pasta water:** Before you drain the pasta, scoop out about a cup of the starchy cooking water. This is liquid gold! It helps to create a creamy sauce and bind the pasta to the sauce.\n",
      "* **Drain the pasta:** Carefully pour the pasta into a colander in the sink.\n",
      "\n",
      "**3. Sauce it up! (Some simple ideas):**\n",
      "\n",
      "* **Tomato Sauce:**  While the pasta cooks, heat up some jarred or homemade tomato sauce. Toss the drained pasta with the sauce, adding a little pasta water if needed to thin it out.\n",
      "* **Pesto:** Combine pesto with a bit of pasta water and toss with the drained pasta.\n",
      "* **Garlic and Oil (Aglio e Olio):** Sauté minced garlic in olive oil until fragrant. Toss with the drained pasta and some pasta water. Add red pepper flakes for a kick!\n",
      "* **Butter and Parmesan:**  Toss the drained pasta with melted butter and grated Parmesan cheese.\n",
      "\n",
      "**4. Serve and Enjoy!**\n",
      "\n",
      "**Tips for Perfect Pasta:**\n",
      "\n",
      "* **Use enough water:**  This ensures even cooking and prevents the pasta from sticking together.\n",
      "* **Don't rinse the pasta:** Unless you're making a cold pasta salad, rinsing washes away the starch that helps the sauce cling to the pasta.\n",
      "* **Serve immediately:** Pasta is best served hot and fresh.\n",
      "\n",
      "\n",
      "Now, tell me, what kind of sauce are you thinking of making?  Knowing that will help me give you more specific tips!\n",
      "\n",
      "\n"
     ]
    },
    {
     "name": "stdin",
     "output_type": "stream",
     "text": [
      " white sauce\n"
     ]
    },
    {
     "name": "stdout",
     "output_type": "stream",
     "text": [
      "\n",
      "Great choice! A classic white sauce, also known as Béchamel, is delicious and versatile. Here's how to make it while your pasta is cooking:\n",
      "\n",
      "**Ingredients for a basic white sauce:**\n",
      "\n",
      "* **Butter:** 4 tablespoons (57g)\n",
      "* **All-Purpose Flour:** 4 tablespoons (28g)\n",
      "* **Milk:** 3 cups (710ml), warmed (not boiling)\n",
      "* **Salt:** 1/2 teaspoon\n",
      "* **Black Pepper:** 1/4 teaspoon\n",
      "* **Nutmeg:** A pinch (optional, but highly recommended)\n",
      "\n",
      "**Instructions:**\n",
      "\n",
      "1. **Melt the butter:** In a medium saucepan over medium heat, melt the butter.\n",
      "2. **Make a roux:** Whisk in the flour and cook for 1-2 minutes, stirring constantly.  This mixture is called a roux, and it's the base of the sauce.  It should be smooth and bubbly, and the flour should lose its raw taste. The color can range from pale blond to light golden brown - a lighter roux will result in a thinner, whiter sauce.\n",
      "3. **Whisk in the warm milk gradually:**  Add the warm milk a little at a time, whisking constantly to prevent lumps.  Make sure each addition of milk is fully incorporated before adding more.\n",
      "4. **Simmer and thicken:**  Continue whisking until the sauce comes to a simmer and thickens. This should take about 5-7 minutes.  It should coat the back of a spoon.\n",
      "5. **Season:** Remove from the heat and stir in the salt, pepper, and nutmeg (if using).\n",
      "\n",
      "**Taking it further:**\n",
      "\n",
      "* **Cheese Sauce:** Once the sauce is thickened, stir in 1-2 cups of shredded cheese (cheddar, Gruyère, Parmesan, or a blend) until melted and smooth.\n",
      "* **Creamy Sauce:** For an even richer sauce, substitute some or all of the milk with cream.\n",
      "* **Garlic White Sauce:** Sauté some minced garlic in the butter before adding the flour.\n",
      "* **Herb White Sauce:**  Stir in chopped fresh herbs like parsley, chives, or thyme at the end.\n",
      "\n",
      "**Combining with Pasta:**\n",
      "\n",
      "* **Drain the pasta and add it directly to the sauce:** Toss to coat. Add a little pasta water if needed to loosen the sauce.\n",
      "* **Serve the sauce over the pasta:** This works well for filled pastas like ravioli or tortellini.\n",
      "\n",
      "Let me know if you have any other questions! Enjoy your creamy pasta dish!\n",
      "\n",
      "\n"
     ]
    }
   ],
   "source": [
    "import google.generativeai as genai\n",
    "\n",
    "# Set your Gemini API key here\n",
    "genai.configure(api_key=\"\")\n",
    "\n",
    "# Initialize the model\n",
    "model = genai.GenerativeModel(model_name=\"models/gemini-1.5-pro-latest\")\n",
    "\n",
    "# Get system message (persona definition)\n",
    "system_msg = input(\"What type of chatbot would you like to create?\\n\")\n",
    "chat = model.start_chat(history=[{\"role\": \"user\", \"parts\": [system_msg]}])\n",
    "\n",
    "print(\"Your new assistant is ready!\")\n",
    "\n",
    "while True:\n",
    "    user_input = input()\n",
    "    if user_input == \"quit()\":\n",
    "        break\n",
    "\n",
    "    response = chat.send_message(user_input)\n",
    "    print(\"\\n\" + response.text + \"\\n\")\n"
   ]
  },
  {
   "cell_type": "code",
   "execution_count": null,
   "id": "1199834c-b0cf-4ca9-92dc-ca8ba344bc1e",
   "metadata": {},
   "outputs": [],
   "source": []
  }
 ],
 "metadata": {
  "kernelspec": {
   "display_name": "Python 3 (ipykernel)",
   "language": "python",
   "name": "python3"
  },
  "language_info": {
   "codemirror_mode": {
    "name": "ipython",
    "version": 3
   },
   "file_extension": ".py",
   "mimetype": "text/x-python",
   "name": "python",
   "nbconvert_exporter": "python",
   "pygments_lexer": "ipython3",
   "version": "3.12.7"
  }
 },
 "nbformat": 4,
 "nbformat_minor": 5
}
